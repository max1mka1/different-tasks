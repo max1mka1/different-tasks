{
 "cells": [
  {
   "cell_type": "code",
   "execution_count": null,
   "metadata": {},
   "outputs": [],
   "source": [
    "import numpy as np\n",
    "import pandas as pd\n",
    "from pandas import Series, DataFrame"
   ]
  },
  {
   "cell_type": "code",
   "execution_count": null,
   "metadata": {},
   "outputs": [],
   "source": [
    "data = DataFrame(np.arange(16).reshape((4, 4)),\n",
    "                 index=['Ohio', 'Colorado', 'Utah', 'New York'],\n",
    "                 columns= ['one', 'two', 'three', 'four'])\n",
    "data"
   ]
  },
  {
   "cell_type": "markdown",
   "metadata": {},
   "source": [
    "## Переиндексация  методом **.iloc** и **.loc**\n",
    "\n",
    "**.iloc** - использует целые числа для чтения и записи данных\n",
    "\n",
    "**.loc** - использует метки для чтения и записи данных"
   ]
  },
  {
   "cell_type": "code",
   "execution_count": null,
   "metadata": {},
   "outputs": [],
   "source": [
    "data.iloc[1,[3, 1]]"
   ]
  },
  {
   "cell_type": "code",
   "execution_count": null,
   "metadata": {},
   "outputs": [],
   "source": [
    "data.loc['Colorado':'New York'] "
   ]
  },
  {
   "cell_type": "code",
   "execution_count": null,
   "metadata": {},
   "outputs": [],
   "source": [
    "data.iloc[1, 1] = '21'\n",
    "data"
   ]
  },
  {
   "cell_type": "code",
   "execution_count": null,
   "metadata": {},
   "outputs": [],
   "source": [
    "data.loc['Ohio':'Colorado', ['four', 'two']]"
   ]
  },
  {
   "cell_type": "markdown",
   "metadata": {},
   "source": [
    "## Применение функций и отображение\n",
    "\n",
    "**.apply** - функция применяется по столбцам или по строкам (к объекту Series)\n",
    "\n",
    "\n",
    "**.applymap** - функция применяется поэлементно"
   ]
  },
  {
   "cell_type": "code",
   "execution_count": null,
   "metadata": {},
   "outputs": [],
   "source": [
    "frame = DataFrame(np.random.randn(4, 3), columns=list('abc'),\n",
    "                  index= ('Utah', 'Ohio', 'Texas', 'Oregon'))\n",
    "frame"
   ]
  },
  {
   "cell_type": "code",
   "execution_count": null,
   "metadata": {},
   "outputs": [],
   "source": [
    "print(frame.apply(np.sum))\n",
    "print(frame.apply(np.sum, axis=1))\n",
    "print(frame)"
   ]
  },
  {
   "cell_type": "code",
   "execution_count": null,
   "metadata": {},
   "outputs": [],
   "source": [
    "form = lambda х: '%.2f' % х\n",
    "print(frame.applymap(form))\n",
    "print(frame.apply(form))"
   ]
  },
  {
   "cell_type": "markdown",
   "metadata": {},
   "source": [
    "## Сортировка и ранжирование\n",
    "\n",
    "Для лексикографической сортировки по индексу служит метод **.sort_index**, который возвращает новый отсортированный объект\n"
   ]
  },
  {
   "cell_type": "code",
   "execution_count": null,
   "metadata": {},
   "outputs": [],
   "source": [
    "obj = Series(range(4), index= ['d', 'a', 'b', 'c'])\n",
    "obj.sort_index()"
   ]
  },
  {
   "cell_type": "code",
   "execution_count": null,
   "metadata": {},
   "outputs": [],
   "source": [
    "frame = DataFrame(np.arange(8).reshape((2, 4)), index=['three', 'one'],\n",
    "                    columns=['d', 'a', 'b', 'c'])\n",
    "print(frame.sort_index())\n",
    "print(frame.sort_index(axis=1))\n",
    "print(frame.sort_index(axis=1, ascending=False)) # сортировать в порядке убывания"
   ]
  },
  {
   "cell_type": "markdown",
   "metadata": {},
   "source": [
    "---\n",
    "Для лексикографической сортировки по значению служит метод **.sort_values**, который возвращает новый отсортированный объект\n",
    "\n",
    "\n",
    "---"
   ]
  },
  {
   "cell_type": "code",
   "execution_count": null,
   "metadata": {},
   "outputs": [],
   "source": [
    "frame = DataFrame({'b': [4, 7, -3, 2], 'a': [0, 1, 0, 1]})\n",
    "print(frame)\n",
    "print(frame.sort_values(by='b'))\n",
    "frame.sort_values(by=['a', 'b'], inplace = True) # не создаем новый объект, выполняем сортировку \"на месте\"\n",
    "frame"
   ]
  },
  {
   "cell_type": "markdown",
   "metadata": {},
   "source": [
    "## Индексы по осям с повторяющимися значениями\n",
    "\n"
   ]
  },
  {
   "cell_type": "code",
   "execution_count": null,
   "metadata": {},
   "outputs": [],
   "source": [
    "obj = Series ( range ( 5) , index= ['a', 'a', 'b', 'b', 'c'])\n",
    "print(obj)\n",
    "print('\\n')\n",
    "print(obj.index.is_unique)\n",
    "print('\\n')\n",
    "print(obj['a'])\n",
    "print('\\n')\n",
    "print(obj['c'])"
   ]
  },
  {
   "cell_type": "code",
   "execution_count": null,
   "metadata": {},
   "outputs": [],
   "source": [
    "data = DataFrame(np.random.randn(4, 3), index = ['a', 'a', 'b', 'b'])\n",
    "print(data)\n",
    "print('\\n')\n",
    "print(data.index.is_unique)\n",
    "print('\\n')\n",
    "print(data.loc['a'])"
   ]
  },
  {
   "cell_type": "markdown",
   "metadata": {},
   "source": [
    "## Редукция и вычисление описательных статистик\n",
    "\n",
    "Объекты pandas оснащены набором стандартных математических и статистических методов. Большая их часть попадает в категорию редукций, или сводных статистик – методов, которые вычисляют единственное значение (например, сумму или среднее) для Series или объект Series - для строк либо столбцов DataFrame.\n",
    "\n",
    "\n",
    "По сравнению с эквивалентными методами массивов NumPy, все они игнорируют отсутствующие значения.\n"
   ]
  },
  {
   "cell_type": "code",
   "execution_count": null,
   "metadata": {},
   "outputs": [],
   "source": [
    "data = DataFrame([[1.4, np.nan], [7.1, -4.5],[np.nan, np.nan], [0.75, -1.3]],\n",
    "                index = ['a', 'b', 'c', 'd'],\n",
    "                columns = ['one', 'two'])\n",
    "data"
   ]
  },
  {
   "cell_type": "markdown",
   "metadata": {},
   "source": [
    "---\n",
    "Метод **sum** объекта DataFrame возвращает Series, содержащий суммы по столбцам (строкам):\n",
    "\n",
    "\n",
    "---"
   ]
  },
  {
   "cell_type": "code",
   "execution_count": null,
   "metadata": {},
   "outputs": [],
   "source": [
    "data.sum()"
   ]
  },
  {
   "cell_type": "code",
   "execution_count": null,
   "metadata": {},
   "outputs": [],
   "source": [
    "data.sum(axis=1, skipna= False) # skipna= False - исключает отсутствующие значения"
   ]
  },
  {
   "cell_type": "markdown",
   "metadata": {},
   "source": [
    "##### Параметры методов редукции\n",
    "\n",
    "|Аргумент|Описание|\n",
    "|:---|:---|\n",
    "|axis|Ось, по которой производится редуцирование. В случае DataFrame 0 означает строки, 1 - столбцы.|\n",
    "|skipna|Исключать отсутствующие значения. По умолчанию True|\n",
    "|level|Редуцировать с группировкой по уровням, если индекс по оси иерархический (Multilndex)|"
   ]
  },
  {
   "cell_type": "markdown",
   "metadata": {},
   "source": [
    "### Методы косвенных статистик"
   ]
  },
  {
   "cell_type": "code",
   "execution_count": null,
   "metadata": {},
   "outputs": [],
   "source": [
    "data.idxmin() # Индекс, при котором достигается минимум"
   ]
  },
  {
   "cell_type": "code",
   "execution_count": null,
   "metadata": {},
   "outputs": [],
   "source": [
    "data.idxmax() # Индекс, при котором достигается  максимум"
   ]
  },
  {
   "cell_type": "code",
   "execution_count": null,
   "metadata": {},
   "outputs": [],
   "source": [
    "data.cumsum()  # Нарастающий итог (аккумулирующий метод)"
   ]
  },
  {
   "cell_type": "code",
   "execution_count": null,
   "metadata": {},
   "outputs": [],
   "source": [
    "data.describe() # Несколько сводных статистик за одно обращение"
   ]
  },
  {
   "cell_type": "code",
   "execution_count": null,
   "metadata": {},
   "outputs": [],
   "source": [
    "obj = Series( ['a', 'a', 'b', 'c' ] * 4)\n",
    "obj.describe()"
   ]
  },
  {
   "cell_type": "markdown",
   "metadata": {},
   "source": [
    "#### Описательные и сводные статистики\n",
    "\n",
    "|Метод|Описание|\n",
    "|:---|:---|\n",
    "|count|Количество значений, исключая отсутствующие|\n",
    "|describe|Вычисляет набор сводных статистик для Series или для каждого столбца DataFrame|\n",
    "|min, max|Вычисляет минимальное или максимальное значение|\n",
    "|argmin, argmax|Вычисляет позицию в индексе (целые числа), при котором достигается минимальное или максимальное значение соответственно|\n",
    "|idxmin, idxmax|Вычисляет значение индекса, при котором достигается минимальное или максимальное значение соответственно|\n",
    "|quantile|Вычисляет выборочный квантиль в диапазоне от 0 до 1|\n",
    "|sum|Сумма значений|\n",
    "|mean|Среднее значение|\n",
    "|median|Медиана (50%-ый квантиль)|\n",
    "|mad|Среднее абсолютное отклонение от среднего|\n",
    "|var|Выборочная дисперсия|\n",
    "|std|Выборочное стандартное отклонение|\n",
    "|skew|Асимметрия (третий момент)|\n",
    "|kurt|Куртозис (четвертый момент)|\n",
    "|cumsum|Нарастающая сумма|\n",
    "|cummin, cummax|Нарастающий минимум или максимум соответственно|\n",
    "|cumprod|Нарастающее произведение|\n",
    "|diff|Первая арифметическая разность (полезно для временных рядов)|\n",
    "|pct_change|Вычисляет процентное изменение|"
   ]
  },
  {
   "cell_type": "markdown",
   "metadata": {},
   "source": [
    "### Корреляция и ковариация\n",
    "\n",
    "\n",
    "\n",
    "Некоторые сводные статистики, например корреляция и ковариация, вычисляются по парам аргументов. \n",
    "\n",
    "Рассмотрим объекты DataFrame, содержащие цены акций и объемы биржевых сделок, взятые с сайта Уаhoo! Finance:"
   ]
  },
  {
   "cell_type": "code",
   "execution_count": null,
   "metadata": {},
   "outputs": [],
   "source": [
    "pip install pandas_datareader"
   ]
  },
  {
   "cell_type": "code",
   "execution_count": null,
   "metadata": {},
   "outputs": [],
   "source": [
    "from pandas_datareader import data as web\n",
    "\n",
    "all_data = {}\n",
    "for ticker in ['AAPL', 'IBM', 'MSFT', 'GOOG']:\n",
    "    all_data[ticker] = web.get_data_yahoo(ticker, '1/1/2008', '1/1/2018')\n",
    "\n",
    "price = DataFrame({tic: data['Adj Close'] for tic, data in all_data.items()})\n",
    "volume = DataFrame ({tic: data ['Volume'] for tic, data in all_data.items()})\n"
   ]
  },
  {
   "cell_type": "code",
   "execution_count": null,
   "metadata": {},
   "outputs": [],
   "source": [
    "\"\"\"\n",
    ".pct_change() вычисляет процентное изменение \n",
    "между текущим и предыдущим элементом. \n",
    "Эта функция по умолчанию рассчитывает процентное изменение \n",
    "от непосредственно предыдущей строки.\n",
    "\"\"\"\n",
    "returns = price.pct_change()\n",
    "returns.tail() # 5 нижних строк фрейма данных"
   ]
  },
  {
   "cell_type": "markdown",
   "metadata": {},
   "source": [
    "---\n",
    "Метод **.corr** объекта Series вычисляет корреляцию перекрывающихся, отличных от NA, выровненных по индексу значений в двух объектах Series. Соответственно, метод **.cov** вычисляет ковариацию\n",
    "\n",
    "\n",
    "---    "
   ]
  },
  {
   "cell_type": "code",
   "execution_count": null,
   "metadata": {},
   "outputs": [],
   "source": [
    "returns.MSFT.corr(returns.IBM)"
   ]
  },
  {
   "cell_type": "code",
   "execution_count": null,
   "metadata": {},
   "outputs": [],
   "source": [
    "returns.MSFT.cov(returns.IBM)"
   ]
  },
  {
   "cell_type": "markdown",
   "metadata": {},
   "source": [
    "---\n",
    "Методы **.corr** и **.cov** объекта DataFrame возвращают соответственно полную корреляционную или ковариационную матрицу в виде DataFrame\n",
    "\n",
    "---"
   ]
  },
  {
   "cell_type": "code",
   "execution_count": null,
   "metadata": {},
   "outputs": [],
   "source": [
    "returns.corr()"
   ]
  },
  {
   "cell_type": "code",
   "execution_count": null,
   "metadata": {},
   "outputs": [],
   "source": [
    "returns.cov()"
   ]
  },
  {
   "cell_type": "markdown",
   "metadata": {},
   "source": [
    "## Уникальные значения, счетчики значений и членство"
   ]
  },
  {
   "cell_type": "code",
   "execution_count": null,
   "metadata": {},
   "outputs": [],
   "source": [
    "obj = Series(['c', 'a', 'd', 'a', 'a', 'b', 'b', 'c', 'c'])"
   ]
  },
  {
   "cell_type": "code",
   "execution_count": null,
   "metadata": {},
   "outputs": [],
   "source": [
    "\"\"\"\n",
    "Вычисляет массив уникальных значений в Series \n",
    "и возвращает их в порядке появления\n",
    "\"\"\"\n",
    "uniques = obj.unique() \n",
    "uniques"
   ]
  },
  {
   "cell_type": "code",
   "execution_count": null,
   "metadata": {},
   "outputs": [],
   "source": [
    "\"\"\"\n",
    "Возвращает объект Series, который содержит уникальное значение \n",
    "в качестве индекса и его частоту в качестве соответствующего значения. \n",
    "Отсортирован в порядке убывания частот\n",
    "\"\"\"\n",
    "obj.value_counts() "
   ]
  },
  {
   "cell_type": "code",
   "execution_count": null,
   "metadata": {},
   "outputs": [],
   "source": [
    "\"\"\"\n",
    "Вычисляет булев массив, показывающий, \n",
    "содержится ли каждое принадлежащее Series значение \n",
    "в переданной последовательности\n",
    "\"\"\"\n",
    "obj.isin(['b', 'с']) "
   ]
  },
  {
   "cell_type": "markdown",
   "metadata": {},
   "source": [
    "## Обработка отсутствующих данных\n",
    "\n",
    "\n",
    "Отсутствующие данные – типичное явление в большинстве аналитических приложений. При проектировании pandas в качестве одной из целей ставилась задача сделать работу с отсутствующими данными как можно менее болезненной. \n",
    "\n",
    "В pandas для представления отсутствующих данных в любых массивах - как чисел с плавающей точкой, так и иных – используется значение с плавающей точкой NaN (не число). Это просто признак, который легко распознать\n"
   ]
  },
  {
   "cell_type": "code",
   "execution_count": null,
   "metadata": {},
   "outputs": [],
   "source": [
    "string_data = Series(['mango', 'artichoke', np.nan, 'avocado'])\n",
    "string_data"
   ]
  },
  {
   "cell_type": "code",
   "execution_count": null,
   "metadata": {},
   "outputs": [],
   "source": [
    "string_data.isnull()"
   ]
  },
  {
   "cell_type": "markdown",
   "metadata": {},
   "source": [
    "---\n",
    "Встроенное в Python значение **None** также рассматривается как отсутствующее в массивах объектов\n",
    "\n",
    "\n",
    "---"
   ]
  },
  {
   "cell_type": "code",
   "execution_count": null,
   "metadata": {},
   "outputs": [],
   "source": [
    "string_data[0] = None\n",
    "string_data.isnull()"
   ]
  },
  {
   "cell_type": "markdown",
   "metadata": {},
   "source": [
    "##### Методы обработки отсутствующих данных\n",
    "\n",
    "|Метод|Описание|\n",
    "|:---|:---|\n",
    "|dropna|Фильтрует метки оси в зависимости от того, существуют ли для метки отсутствующие данные, причем есть возможность указать различные пороги, определяющие, какое количество отсутствующих данных считать допустимым:|\n",
    "|fillna|Восполняет отсутствующие данные указанным значением или использует какой-нибудь метод интерполяции, например 'ffill' или 'bfill'|\n",
    "|isnull|Возвращает объект, содержащий булевы значения, которые показывают, какие значения отсутствуют|\n",
    "|notnull|Логическое отрицание isnull|"
   ]
  },
  {
   "cell_type": "markdown",
   "metadata": {},
   "source": [
    "### Фильтрация отсутствующих данных"
   ]
  },
  {
   "cell_type": "code",
   "execution_count": null,
   "metadata": {},
   "outputs": [],
   "source": [
    "from numpy import nan as NA\n",
    "data = Series([1, NA, 3.5, NA, 7])\n",
    "data.dropna()"
   ]
  },
  {
   "cell_type": "code",
   "execution_count": null,
   "metadata": {},
   "outputs": [],
   "source": [
    "\"\"\"\n",
    "или\n",
    "\"\"\"\n",
    "data[data.notnull()]"
   ]
  },
  {
   "cell_type": "markdown",
   "metadata": {},
   "source": [
    "---\n",
    "В случае объектов DataFrame все немного сложнее. Можно отбрасывать строки или столбцы, если они содержат только NА-значения или хотя бы одно NА-значение.\n",
    "По умолчанию метод **dropna** отбрасывает все строки, содержащие хотя бы одно отсутствующее значение:\n",
    "    \n",
    "---"
   ]
  },
  {
   "cell_type": "code",
   "execution_count": null,
   "metadata": {},
   "outputs": [],
   "source": [
    "data = DataFrame([[1., 6.5, 3.], [1., NA, NA], [NA, NA, NA] , [NA, 6.5, 3. ] ] )\n",
    "data"
   ]
  },
  {
   "cell_type": "code",
   "execution_count": null,
   "metadata": {},
   "outputs": [],
   "source": [
    "cleaned = data.dropna()\n",
    "cleaned"
   ]
  },
  {
   "cell_type": "markdown",
   "metadata": {},
   "source": [
    "---\n",
    "Если передать параметр how= 'all', то будут отброшены строки, которые целиком состоят из отсутствующих значений\n",
    "\n",
    "----\n",
    "    "
   ]
  },
  {
   "cell_type": "code",
   "execution_count": null,
   "metadata": {},
   "outputs": [],
   "source": [
    "data.dropna( how='all')"
   ]
  },
  {
   "cell_type": "markdown",
   "metadata": {},
   "source": [
    "---\n",
    "Для отбрасывания столбцов достаточно передать параметр axis = 1\n",
    "\n",
    "\n",
    "---"
   ]
  },
  {
   "cell_type": "code",
   "execution_count": null,
   "metadata": {},
   "outputs": [],
   "source": [
    "data[4] = NA\n",
    "data"
   ]
  },
  {
   "cell_type": "code",
   "execution_count": null,
   "metadata": {},
   "outputs": [],
   "source": [
    "data.dropna(axis=1, how='all')"
   ]
  },
  {
   "cell_type": "code",
   "execution_count": null,
   "metadata": {},
   "outputs": [],
   "source": [
    "data.dropna(thresh=2) # Отбрасываем строки, содержащие менее двух значений (данных)"
   ]
  },
  {
   "cell_type": "markdown",
   "metadata": {},
   "source": [
    "### Восполнение отсутствующих данных\n",
    "\n",
    "Иногда отсутствующие данные желательно не отфильтровывать (и потенциально вместе с ними отбрасывать полезные данные), а каким-то способом заполнить «дыры». В большинстве случаев для этой цели можно использовать метод **.fillna**. Ему передается константа, подставляемая вместо отсутствующих значений"
   ]
  },
  {
   "cell_type": "code",
   "execution_count": null,
   "metadata": {},
   "outputs": [],
   "source": [
    "data.fillna(0)"
   ]
  },
  {
   "cell_type": "markdown",
   "metadata": {},
   "source": [
    "Если передать методу **.fillna** словарь, то можно будет подставлять вместо отсутствующих данных значение, зависящее от столбца"
   ]
  },
  {
   "cell_type": "code",
   "execution_count": null,
   "metadata": {},
   "outputs": [],
   "source": [
    "data.fillna ( {1: 0.5, 2: 1, 3: -1}, inplace = True) # Модифицируем существующий объект \n",
    "data"
   ]
  },
  {
   "cell_type": "markdown",
   "metadata": {},
   "source": [
    "---\n",
    "Методы интерполяции, применяемые для переиндексации, годятся и для **.fillna**\n",
    "\n",
    "---"
   ]
  },
  {
   "cell_type": "code",
   "execution_count": null,
   "metadata": {},
   "outputs": [],
   "source": [
    "data = DataFrame(np.random.randn(6, 3))\n",
    "data.iloc[2:, 1] = NA \n",
    "data.iloc[4:, 2] = NA\n",
    "data"
   ]
  },
  {
   "cell_type": "code",
   "execution_count": null,
   "metadata": {},
   "outputs": [],
   "source": [
    "data.fillna(method= 'ffill')"
   ]
  },
  {
   "cell_type": "code",
   "execution_count": null,
   "metadata": {},
   "outputs": [],
   "source": [
    "data.fillna(method='ffill', limit=2) # Limit – для  прямого и обратного восполнения максимальное количество непрерывных заполняемых промежутков"
   ]
  },
  {
   "cell_type": "markdown",
   "metadata": {},
   "source": [
    "#### Аргументы метода fillna\n",
    "|Аргумент |Описание|\n",
    "|:---|:---|\n",
    "|value|Скалярное значение или похожий на словарь объект для восполнения отсутствующих значений|\n",
    "|method|Метод интерполяции. По умолчанию, если не задано других аргументов, предполагается метод 'fill'|\n",
    "|axis|Ось, по которой производится восполнение. По умолчанию axis= 0|\n",
    "|inplace|Модифицировать исходный объект, не создавая копию|\n",
    "|limit|Для прямого и обратного восполнения максимальное количество непрерывных заполняемых промежутков|"
   ]
  },
  {
   "cell_type": "markdown",
   "metadata": {},
   "source": [
    "# Упражнение"
   ]
  },
  {
   "cell_type": "code",
   "execution_count": null,
   "metadata": {},
   "outputs": [],
   "source": [
    "data_task = pd.read_csv('ttask3_2_2.csv')"
   ]
  },
  {
   "cell_type": "markdown",
   "metadata": {},
   "source": [
    "Выполнить следующие преобразования DataFrame:\n",
    "\n",
    "1)\tЗаполнить отсутствующие данные. В столбце «А» пустые значения заменить на «1», «E» - «0», «B» - средние значения по столбцу.\n",
    "\n",
    "2)\tСтолбец «B» разделить на два столбца «B1»(данные до знака «/») и «B2» (данные после  знака «/»). \n",
    "\n",
    "3)\tИз столбца «С» убрать «p.».\n",
    "\n",
    "4)\tДобавить столбец «F» (стоимость со скидкой), заполнить его данными согласно формуле: «A»\\*«С» - «E» .\n"
   ]
  }
 ],
 "metadata": {
  "kernelspec": {
   "display_name": "Python 3",
   "language": "python",
   "name": "python3"
  },
  "language_info": {
   "codemirror_mode": {
    "name": "ipython",
    "version": 3
   },
   "file_extension": ".py",
   "mimetype": "text/x-python",
   "name": "python",
   "nbconvert_exporter": "python",
   "pygments_lexer": "ipython3",
   "version": "3.7.3"
  }
 },
 "nbformat": 4,
 "nbformat_minor": 2
}
