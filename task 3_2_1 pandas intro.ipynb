{
 "cells": [
  {
   "cell_type": "markdown",
   "metadata": {},
   "source": [
    "# Введение в [Pandas](https://pandas.pydata.org/) \n",
    "\n",
    "\n"
   ]
  },
  {
   "cell_type": "code",
   "execution_count": null,
   "metadata": {},
   "outputs": [],
   "source": [
    "import numpy as np\n",
    "import pandas as pd  # негласный стандарт импорта библиотеки\n",
    "from pandas import Series, DataFrame # импорт в локальное пространство имен"
   ]
  },
  {
   "cell_type": "markdown",
   "metadata": {},
   "source": [
    "## Объекты Series"
   ]
  },
  {
   "cell_type": "code",
   "execution_count": null,
   "metadata": {},
   "outputs": [],
   "source": [
    "list_obj = [6, -3, 9, 1]\n",
    "numpy_array_obj = np.array([6, -3, 9, 1])\n",
    "series_obj = Series([6, -3, 9, 1]) # создаем объект Series без указания индекса"
   ]
  },
  {
   "cell_type": "code",
   "execution_count": null,
   "metadata": {},
   "outputs": [],
   "source": [
    "print(\"list_obj: \", list_obj)\n",
    "print(\"numpy_array_obj: \", numpy_array_obj)\n",
    "print(\"_________________________\")\n",
    "print(series_obj)"
   ]
  },
  {
   "cell_type": "code",
   "execution_count": null,
   "metadata": {},
   "outputs": [],
   "source": [
    "print(series_obj.values)"
   ]
  },
  {
   "cell_type": "code",
   "execution_count": null,
   "metadata": {},
   "outputs": [],
   "source": [
    "print(series_obj.index)"
   ]
  },
  {
   "cell_type": "code",
   "execution_count": null,
   "metadata": {},
   "outputs": [],
   "source": [
    "print(series_obj[2])"
   ]
  },
  {
   "cell_type": "code",
   "execution_count": null,
   "metadata": {
    "scrolled": true
   },
   "outputs": [],
   "source": [
    "# создаем объект с индексом, идентифицирующим каждый элемент данных\n",
    "series_obj2 = Series([6, -3, 9, 1], index=['а', 'b', 'c', 'd']) \n",
    "series_obj2"
   ]
  },
  {
   "cell_type": "code",
   "execution_count": null,
   "metadata": {},
   "outputs": [],
   "source": [
    "print(series_obj2.index)"
   ]
  },
  {
   "cell_type": "code",
   "execution_count": null,
   "metadata": {},
   "outputs": [],
   "source": [
    "print(series_obj2['а'])"
   ]
  },
  {
   "cell_type": "code",
   "execution_count": null,
   "metadata": {},
   "outputs": [],
   "source": [
    "series_obj2.index = [1,2,3,4] # изменяем индексы"
   ]
  },
  {
   "cell_type": "code",
   "execution_count": null,
   "metadata": {},
   "outputs": [],
   "source": [
    "print(series_obj2.index)\n",
    "print(series_obj2[1])"
   ]
  },
  {
   "cell_type": "code",
   "execution_count": null,
   "metadata": {},
   "outputs": [],
   "source": [
    "\"\"\"\n",
    "Операции с массивом NumPy, например, фильтрация с помощью булева массива, \n",
    "скалярное умножение или применение математических функций, сохраняют\n",
    "связь между индексом и значением \n",
    "\"\"\"\n",
    "print(series_obj2>0)"
   ]
  },
  {
   "cell_type": "code",
   "execution_count": null,
   "metadata": {},
   "outputs": [],
   "source": [
    "print(series_obj2*2)"
   ]
  },
  {
   "cell_type": "code",
   "execution_count": null,
   "metadata": {},
   "outputs": [],
   "source": [
    "print(np.exp(series_obj2))"
   ]
  },
  {
   "cell_type": "code",
   "execution_count": null,
   "metadata": {},
   "outputs": [],
   "source": [
    "print('b' in series_obj2) # доступны действия аналогичные действиям со словарем  "
   ]
  },
  {
   "cell_type": "code",
   "execution_count": null,
   "metadata": {},
   "outputs": [],
   "source": [
    "\"\"\"\n",
    "Преобразование словаря Python в объект Series\n",
    "\"\"\"\n",
    "\n",
    "sdict = { 'Moscow': 250000, 'St. Petersburg': 160000, 'New york': 300000, 'Ural': 70000}\n",
    "obj3 = Series(sdict)\n",
    "print(obj3)"
   ]
  },
  {
   "cell_type": "code",
   "execution_count": null,
   "metadata": {},
   "outputs": [],
   "source": [
    "\"\"\"\n",
    "Сравните ...\n",
    "\"\"\"\n",
    "city = ['Krasnodar', 'Moscow', 'St. Petersburg', 'New york']\n",
    "obj4 = Series(sdict, index = city)\n",
    "print(obj4)"
   ]
  },
  {
   "cell_type": "markdown",
   "metadata": {},
   "source": [
    "---\n",
    "### Задание\n",
    "Запишите ответ на вопрос.\n",
    "\n",
    "В чем отличие между объектами obj3 и obj4?  \n"
   ]
  },
  {
   "cell_type": "markdown",
   "metadata": {},
   "source": [
    "\n",
    "---\n",
    "Для распознавания отсутствующих данных в pandas следует использовать \n",
    "функции **isnull** и **notnull**\n",
    "\n",
    "---"
   ]
  },
  {
   "cell_type": "code",
   "execution_count": null,
   "metadata": {},
   "outputs": [],
   "source": [
    "pd.isnull(obj4)\n"
   ]
  },
  {
   "cell_type": "code",
   "execution_count": null,
   "metadata": {},
   "outputs": [],
   "source": [
    "pd.notnull(obj4)"
   ]
  },
  {
   "cell_type": "code",
   "execution_count": null,
   "metadata": {},
   "outputs": [],
   "source": [
    "obj4.isnull() # метод экземпляра"
   ]
  },
  {
   "cell_type": "markdown",
   "metadata": {},
   "source": [
    "---\n",
    "Series позволяет автоматически выравнивать данные, проиндексированные в разном порядке\n",
    "\n",
    "---"
   ]
  },
  {
   "cell_type": "code",
   "execution_count": null,
   "metadata": {},
   "outputs": [],
   "source": [
    "obj3 + obj4"
   ]
  },
  {
   "cell_type": "code",
   "execution_count": null,
   "metadata": {},
   "outputs": [],
   "source": [
    "obj4.name = 'salary'\n",
    "obj4.index.name = 'city'\n",
    "obj4"
   ]
  },
  {
   "cell_type": "markdown",
   "metadata": {},
   "source": [
    "---\n",
    "## Объекты DataFrame -\n",
    "\n",
    "представляет табличную структуру данных, состоящую из упорядоченной коллекции столбцов, причем типы значений (числовой, строковый, булев и т. д.) в разных столбцах могут различаться. \n",
    "\n",
    "В объекте DataFгame хранятся два индекса: **по строкам** и **по столбцам**. Можно считать, что это словарь, объектов Series. \n",
    "\n",
    "Операции со строками и столбцами в DataFrame в первом приближении симметричны. Внутри объекта данные хранятся в виде одного или нескольких двумерных блоков, а не в виде списка, словаря или еще какой-нибудь коллекции одномерных массивов. \n",
    "\n",
    "---\n"
   ]
  },
  {
   "cell_type": "code",
   "execution_count": null,
   "metadata": {},
   "outputs": [],
   "source": [
    "\"\"\"\n",
    "Создание объекта DataFrame с помощью словаря списков одинаковой длины \n",
    "или массивов NumPy\n",
    "\n",
    "\"\"\"\n",
    "data = { 'state' : [ 'Ohio' , 'Ohio', 'Ohio', 'Nevada', 'Nevada'] ,\n",
    "        'year': [2000, 2001, 2002, 2001, 2002],\n",
    "        'рор' : [ 1.5 , 1.7 , 3.6 , 2.4 , 2.9 ] }\n",
    "frame = DataFrame(data) # индекс будет построен автоматически\n",
    "frame"
   ]
  },
  {
   "cell_type": "code",
   "execution_count": null,
   "metadata": {},
   "outputs": [],
   "source": [
    "DataFrame(data, columns=['year', 'state', 'рор']) # изменение порядка следования столбцов"
   ]
  },
  {
   "cell_type": "markdown",
   "metadata": {},
   "source": [
    "---\n",
    "Добавим столбец без данных ...\n",
    "\n",
    "---"
   ]
  },
  {
   "cell_type": "code",
   "execution_count": null,
   "metadata": {},
   "outputs": [],
   "source": [
    "frame2 = DataFrame(data, columns=['year', 'state', 'рор', 'debt'],\n",
    "                   index = ['one', 'two', 'three', 'four', 'five'])\n",
    "frame2"
   ]
  },
  {
   "cell_type": "code",
   "execution_count": null,
   "metadata": {},
   "outputs": [],
   "source": [
    "frame2.columns"
   ]
  },
  {
   "cell_type": "markdown",
   "metadata": {},
   "source": [
    "---\n",
    "Столбец DataFrame можно извлечь как объект Series, воспользовавшись  нотацией словарей, или с помощью атрибута\n",
    "\n",
    "\n",
    "!!! *Столбец, возвращенный в ответ на запрос к DataFrame по индексу, является представлением, а не копией данных. Следовательно, **любые модификации этого объекта Series**, найдут отражение в DataFrame. Чтобы скопировать столбец, нужно вызвать метод **сору** объекта Series.*\n",
    "\n",
    "---"
   ]
  },
  {
   "cell_type": "code",
   "execution_count": null,
   "metadata": {},
   "outputs": [],
   "source": [
    "print(frame2 ['state'])"
   ]
  },
  {
   "cell_type": "code",
   "execution_count": null,
   "metadata": {},
   "outputs": [],
   "source": [
    "print(frame2.year)"
   ]
  },
  {
   "cell_type": "markdown",
   "metadata": {},
   "source": [
    "---\n",
    "Строку DataFrame также можно извлечь по позиции или по имени, используя методы **.loc** и **.iloc**  \n",
    "\n",
    "---"
   ]
  },
  {
   "cell_type": "code",
   "execution_count": null,
   "metadata": {},
   "outputs": [],
   "source": [
    "frame2.loc['three']"
   ]
  },
  {
   "cell_type": "markdown",
   "metadata": {},
   "source": [
    "---\n",
    "Изменение столбцов ...\n",
    "\n",
    "---"
   ]
  },
  {
   "cell_type": "code",
   "execution_count": null,
   "metadata": {},
   "outputs": [],
   "source": [
    "# Способ 1\n",
    "frame2['debt'] = 16.5\n",
    "frame2"
   ]
  },
  {
   "cell_type": "code",
   "execution_count": null,
   "metadata": {},
   "outputs": [],
   "source": [
    "# Способ 2\n",
    "frame2['debt'] = np.arange(5.)\n",
    "frame2"
   ]
  },
  {
   "cell_type": "code",
   "execution_count": null,
   "metadata": {},
   "outputs": [],
   "source": [
    "# Способ 3\n",
    "val = Series([-1.2, -1.5, -1.7], index=['two', 'four', 'five'])\n",
    "frame2['debt'] = val\n",
    "frame2"
   ]
  },
  {
   "cell_type": "markdown",
   "metadata": {},
   "source": [
    "---\n",
    "Присваивание несуществующему столбцу приводит к созданию нового столбца. \n",
    "\n",
    "---"
   ]
  },
  {
   "cell_type": "code",
   "execution_count": null,
   "metadata": {},
   "outputs": [],
   "source": [
    "frame2 ['eastern'] = frame2.state == 'Ohio'\n",
    "frame2"
   ]
  },
  {
   "cell_type": "markdown",
   "metadata": {},
   "source": [
    "---\n",
    "Для удаления столбцов служит ключевое слово **del**, как и в обычном словаре \n",
    "\n",
    "---"
   ]
  },
  {
   "cell_type": "code",
   "execution_count": null,
   "metadata": {},
   "outputs": [],
   "source": [
    "del frame2 ['eastern']\n",
    "frame2.columns"
   ]
  },
  {
   "cell_type": "code",
   "execution_count": null,
   "metadata": {},
   "outputs": [],
   "source": [
    "frame2"
   ]
  },
  {
   "cell_type": "code",
   "execution_count": null,
   "metadata": {},
   "outputs": [],
   "source": [
    "\"\"\"\n",
    "Создание объекта DataFrame с помощью словаря словарей\n",
    "\n",
    "\"\"\"\n",
    "pop = {'Nevada': {2001: 2.4, 2002: 2.9}, \n",
    "       'Ohio': {2000: 1.5, 2001: 1.7, 2002: 3.6}}\n",
    "frame3 = DataFrame(pop)\n",
    "frame3"
   ]
  },
  {
   "cell_type": "code",
   "execution_count": null,
   "metadata": {},
   "outputs": [],
   "source": [
    "frame3.T # транспонирование"
   ]
  },
  {
   "cell_type": "markdown",
   "metadata": {},
   "source": [
    "---\n",
    "Ключи внутренних словарей объединяются и сортируются для образования индекса результата. Однако этого не происходит, если индекс задан явно\n",
    "\n",
    "---"
   ]
  },
  {
   "cell_type": "code",
   "execution_count": null,
   "metadata": {},
   "outputs": [],
   "source": [
    "DataFrame(pop, index= [2001, 2002, 2003])"
   ]
  },
  {
   "cell_type": "code",
   "execution_count": null,
   "metadata": {},
   "outputs": [],
   "source": [
    "\"\"\"\n",
    "Создание объекта DataFrame с помощью словаря объектов Series\n",
    "\n",
    "\"\"\"\n",
    "pdata = { 'Ohio': frame3 [ 'Ohio'] [ :-1],\n",
    "         'Nevada': frame3 [ 'Nevada'] [ :2]}\n",
    "print(DataFrame(pdata))"
   ]
  },
  {
   "cell_type": "code",
   "execution_count": null,
   "metadata": {},
   "outputs": [],
   "source": [
    "frame3.index.name = 'year'\n",
    "frame3.columns.name = 'state'\n",
    "frame3"
   ]
  },
  {
   "cell_type": "markdown",
   "metadata": {},
   "source": [
    "---\n",
    "### Атрибуты values и index для DataFrame\n",
    "\n",
    "---"
   ]
  },
  {
   "cell_type": "code",
   "execution_count": null,
   "metadata": {},
   "outputs": [],
   "source": [
    "frame3.values"
   ]
  },
  {
   "cell_type": "markdown",
   "metadata": {},
   "source": [
    "---\n",
    "### Задание\n",
    "\n",
    "Запишите ответ на вопрос.\n",
    "\n",
    "Чем отличается результат вывода атрибута ** values**  объекта Series от результат вывода атрибута ** values** объекта DataFrame?\n",
    "\n",
    "---\n"
   ]
  },
  {
   "cell_type": "code",
   "execution_count": null,
   "metadata": {},
   "outputs": [],
   "source": [
    "frame2"
   ]
  },
  {
   "cell_type": "code",
   "execution_count": null,
   "metadata": {},
   "outputs": [],
   "source": [
    "frame2.values\n",
    "# Если у столбцов DataFrame разные типы данных, \n",
    "# то dtype массива values будет выбран так, чтобы охватить все столбцы"
   ]
  },
  {
   "cell_type": "markdown",
   "metadata": {},
   "source": [
    "##### Аргументы конструктора DataFrame\n",
    "|Тип|Примечание|\n",
    "|:------|:------|\n",
    "|Двумерный ndarray | Матрица данных, дополнительно можно передать метки строк и столбцов|\n",
    "| Словарь массивов, списков или кортежей|Каждая последовательность становится столбцом объекта DataFrame. Все последовательности должны быть одинаковой длины |\n",
    "| Структурный массив NumPy|Интерпретируется так же, как «словарь массивов» |\n",
    "| Словарь объектов Series| Каждое значение становится столбцом. Если индекс явно не задан, то индексы объектов Series объединяются и образуют индекс строк результата|\n",
    "| Словарь словарей|Каждый внутренний словарь становится столбцом. Ключи объединяются и образуют индекс строк, как в случае «словаря объектов Series» |\n",
    "|Список словарей или объектов Series | Каждый элемент списка становится строкой объекта DataFrame. Объединение ключей словаря или индексов объектов Series становится множеством меток столбцов DataFrame|\n",
    "| Список списков или кортежей|Интерпретируется так же, как «двумерный ndarray» |\n",
    "|Другой объект DataFrame |Используются индексы DataFrame, если явно не заданы другие индексы |\n",
    "| Объект NumPy MaskedArray| Как «двумерный ndarray» с тем отличием, что замаскированные значения становятся отсутствующими в результирующем объекте DataFrame|"
   ]
  },
  {
   "cell_type": "code",
   "execution_count": null,
   "metadata": {},
   "outputs": [],
   "source": [
    "frame3.index"
   ]
  },
  {
   "cell_type": "markdown",
   "metadata": {},
   "source": [
    "## Индексные объекты\n",
    "\n",
    "В индексных объектах pandas хранятся метки вдоль осей и прочие метаданные (например, имена осей). Любой массив или иная последовательность меток, указанная при конструировании Series или DataFraшe, преобразуется в объект Index"
   ]
  },
  {
   "cell_type": "code",
   "execution_count": null,
   "metadata": {},
   "outputs": [],
   "source": [
    "obj = Series(range(3), index=['a', 'b', 'c'])\n",
    "index = obj.index\n",
    "index"
   ]
  },
  {
   "cell_type": "code",
   "execution_count": null,
   "metadata": {},
   "outputs": [],
   "source": [
    "index[1:]"
   ]
  },
  {
   "cell_type": "markdown",
   "metadata": {},
   "source": [
    "---\n",
    "Индексные объекты неизменяемы, т. е. пользователь не может их модифицировать\n",
    "\n",
    "---"
   ]
  },
  {
   "cell_type": "code",
   "execution_count": null,
   "metadata": {},
   "outputs": [],
   "source": [
    "index[1] = 'd'"
   ]
  },
  {
   "cell_type": "markdown",
   "metadata": {},
   "source": [
    "---\n",
    "Неизменяемость важна для того, чтобы несколько структур данных могли совместно использовать один и тот же индексный объект, не опасаясь его повредить\n",
    "\n",
    "---"
   ]
  },
  {
   "cell_type": "code",
   "execution_count": null,
   "metadata": {},
   "outputs": [],
   "source": [
    "index = pd.Index(np.arange(3))\n",
    "obj2 = Series([1.5, -2.5, 0], index=index)\n",
    "obj2.index is index"
   ]
  },
  {
   "cell_type": "markdown",
   "metadata": {},
   "source": [
    "#### Основные индексные объекты в pandas\n",
    "\n",
    "|Тип|Примечание|\n",
    "|:------|:------|\n",
    "| Index | Наиболее общий индексный объект, представляющий оси в массиве NumPy, состоящем из объектов Python |\n",
    "|  Int64Index| Специализированный индекс для целых значений |\n",
    "| Multiindex | «Иерархический» индекс, представляющий несколько уровней индексирования по одной оси. Можно считать аналогом массива кортежей |\n",
    "| Datetimeindex | Хранит временные метки с наносекундной точностью (представлены типом данных NumPy datetime64) |\n",
    "| Periodindex|Специализированный индекс для данных о периодах (временных промежутках) |"
   ]
  },
  {
   "cell_type": "code",
   "execution_count": null,
   "metadata": {},
   "outputs": [],
   "source": [
    "frame3"
   ]
  },
  {
   "cell_type": "code",
   "execution_count": null,
   "metadata": {},
   "outputs": [],
   "source": [
    "'Ohio' in frame3.columns"
   ]
  },
  {
   "cell_type": "code",
   "execution_count": null,
   "metadata": {},
   "outputs": [],
   "source": [
    "2003 in frame3.index"
   ]
  },
  {
   "cell_type": "markdown",
   "metadata": {},
   "source": [
    "#### Методы и свойства объекта Index\n",
    "\n",
    "|Метод|Описание|\n",
    "|:------|:------|\n",
    "|append |Конкатенирует с дополнительными индексными объектами, порождая новый объект lndex |\n",
    "| diff| Вычисляет теоретико-множественную разность, представляя ее в виде индексного объекта|\n",
    "|intersection |Вычисляет теоретико-множественное пересечение |\n",
    "| union| Вычисляет теоретико-множественное объединение|\n",
    "| isin| Вычисляет булев массив, показывающий, содержится ли каждое значение индекса в переданной коллекции|\n",
    "|delete |Вычисляет новый индексный объект, получающийся после удаления элемента с индексом i |\n",
    "|drop | Вычисляет новый индексный объект, получающийся после удаления переданных значений|\n",
    "|insert |Вычисляет новый индексный объект, получающийся после вставки элемента в позицию с индексом i |\n",
    "| is_rnonotonic|Возвращает True, если каждый элемент больше или равен предыдущему |\n",
    "|is_unique |Возвращает True, если в индексе нет повторяющихся значений |\n",
    "|unique | Вычисляет массив уникальных значений в индексе|"
   ]
  },
  {
   "cell_type": "markdown",
   "metadata": {},
   "source": [
    "### Задание\n",
    "\n",
    "Попробуйте написать конструкции с использованием методов и свойств объекта **Index**.\n",
    "\n",
    "Например:\n",
    "\n",
    "index1 = pd.Index(np.arange(3))\n",
    "\n",
    "index2 = pd.Index(np.arange(3,6,1))\n",
    "\n",
    "print(index1)\n",
    "\n",
    "print(index2)\n",
    "\n",
    "index1.append(index2)\n"
   ]
  },
  {
   "cell_type": "markdown",
   "metadata": {},
   "source": [
    "### Упражнение\n",
    "\n",
    "1.\tСоздайте DataFrame «Аттестация студентов по дисциплине» для хранения информации о студентах Вашей группы. В первом столбце хранятся ФИО студентов, в остальных столбцах (>4) хранятся баллы за выполненные практические задания (максимальный балл за каждое задание 10). \n",
    "2.\tЗаполните DataFrame данными о студентах (>5 записей).\n",
    "3.\tДобавьте столбец «mark».\n",
    "4.\tЗаполните столбец значениями, используя формулу: (сумм(баллы полученные студентом за выполнение практических работ)/количество заданий)*10.\n",
    "5.\tЗадайте названия строк и столбцов DataFram.\n",
    "6.\tВыведите полную информацию о себе.\n",
    "7.\tВыведите итоговую информацию о студентах группы.\n"
   ]
  }
 ],
 "metadata": {
  "kernelspec": {
   "display_name": "Python 3",
   "language": "python",
   "name": "python3"
  },
  "language_info": {
   "codemirror_mode": {
    "name": "ipython",
    "version": 3
   },
   "file_extension": ".py",
   "mimetype": "text/x-python",
   "name": "python",
   "nbconvert_exporter": "python",
   "pygments_lexer": "ipython3",
   "version": "3.7.4"
  }
 },
 "nbformat": 4,
 "nbformat_minor": 2
}
